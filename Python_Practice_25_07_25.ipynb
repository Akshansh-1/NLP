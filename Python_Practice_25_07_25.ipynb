{
  "nbformat": 4,
  "nbformat_minor": 0,
  "metadata": {
    "colab": {
      "provenance": [],
      "authorship_tag": "ABX9TyMwzDJ/wuWG8nXU0YxO1AXi",
      "include_colab_link": true
    },
    "kernelspec": {
      "name": "python3",
      "display_name": "Python 3"
    },
    "language_info": {
      "name": "python"
    }
  },
  "cells": [
    {
      "cell_type": "markdown",
      "metadata": {
        "id": "view-in-github",
        "colab_type": "text"
      },
      "source": [
        "<a href=\"https://colab.research.google.com/github/Akshansh-1/NLP/blob/main/Python_Practice_25_07_25.ipynb\" target=\"_parent\"><img src=\"https://colab.research.google.com/assets/colab-badge.svg\" alt=\"Open In Colab\"/></a>"
      ]
    },
    {
      "cell_type": "code",
      "execution_count": null,
      "metadata": {
        "colab": {
          "base_uri": "https://localhost:8080/"
        },
        "id": "sLLYKXeiENlT",
        "outputId": "15f09b46-6e92-4886-e661-ac7be074752b"
      },
      "outputs": [
        {
          "output_type": "stream",
          "name": "stdout",
          "text": [
            "Hello, World\n"
          ]
        }
      ],
      "source": [
        "print(\"Hello, World\")"
      ]
    },
    {
      "cell_type": "code",
      "source": [
        "a = 5\n",
        "b = 13\n",
        "print(a + b)\n"
      ],
      "metadata": {
        "colab": {
          "base_uri": "https://localhost:8080/"
        },
        "id": "x7WW_asHIG8d",
        "outputId": "95bd610b-d540-4d5f-c0af-d094c58b037e"
      },
      "execution_count": 3,
      "outputs": [
        {
          "output_type": "stream",
          "name": "stdout",
          "text": [
            "18\n"
          ]
        }
      ]
    },
    {
      "cell_type": "code",
      "source": [
        "a = int(input(\"Enter the value of a: \"))\n",
        "b = int(input(\"Enter the value of b: \"))\n",
        "print(a + b)"
      ],
      "metadata": {
        "colab": {
          "base_uri": "https://localhost:8080/"
        },
        "id": "YlEOeGwbKpPb",
        "outputId": "e2c2119b-35ad-4f9a-a227-aa01df056d3e"
      },
      "execution_count": 6,
      "outputs": [
        {
          "output_type": "stream",
          "name": "stdout",
          "text": [
            "Enter the value of a: 7\n",
            "Enter the value of b: 15\n",
            "22\n"
          ]
        }
      ]
    },
    {
      "cell_type": "code",
      "source": [
        "x = str(3)\n",
        "y = int(5)\n",
        "z = float(7)\n",
        "\n",
        "print(x)\n",
        "print(y)\n",
        "print(z)\n"
      ],
      "metadata": {
        "colab": {
          "base_uri": "https://localhost:8080/"
        },
        "id": "JDd9vFvsLVY2",
        "outputId": "374f47b5-9fbe-4034-d757-a7718a950abb"
      },
      "execution_count": 7,
      "outputs": [
        {
          "output_type": "stream",
          "name": "stdout",
          "text": [
            "3\n",
            "5\n",
            "7.0\n"
          ]
        }
      ]
    },
    {
      "cell_type": "code",
      "source": [
        "nums = [\"7\", \"15\", \"26\"]\n",
        "x, y, z = nums\n",
        "print(x)\n",
        "print(y)\n",
        "print(z)"
      ],
      "metadata": {
        "colab": {
          "base_uri": "https://localhost:8080/"
        },
        "id": "YyIP4dt0OYeC",
        "outputId": "f177c4a0-a303-4a69-d6e2-63849700be9b"
      },
      "execution_count": 8,
      "outputs": [
        {
          "output_type": "stream",
          "name": "stdout",
          "text": [
            "7\n",
            "15\n",
            "26\n"
          ]
        }
      ]
    },
    {
      "cell_type": "code",
      "source": [
        "a = 3\n",
        "b = 7.9\n",
        "c = 2j\n",
        "\n",
        "print(type(a))\n",
        "print(type(b))\n",
        "print(type(c))"
      ],
      "metadata": {
        "colab": {
          "base_uri": "https://localhost:8080/"
        },
        "id": "MwSB2ruDPdZ8",
        "outputId": "fb59a828-f3fd-4f1c-b191-6721106cbcdc"
      },
      "execution_count": 12,
      "outputs": [
        {
          "output_type": "stream",
          "name": "stdout",
          "text": [
            "<class 'int'>\n",
            "<class 'float'>\n",
            "<class 'complex'>\n"
          ]
        }
      ]
    },
    {
      "cell_type": "code",
      "source": [
        "x = 4\n",
        "y = 8.3\n",
        "z = 3j\n",
        "\n",
        "a = float(x)\n",
        "b = int(y)\n",
        "c = complex(y)\n",
        "\n",
        "print(a)\n",
        "print(b)\n",
        "print(c)\n",
        "\n",
        "print(type(a))\n",
        "print(type(b))\n",
        "print(type(c))"
      ],
      "metadata": {
        "colab": {
          "base_uri": "https://localhost:8080/"
        },
        "id": "7gTLygOuP7xI",
        "outputId": "0ec97b4b-a4c2-4024-83b0-e96d9d0d5875"
      },
      "execution_count": 13,
      "outputs": [
        {
          "output_type": "stream",
          "name": "stdout",
          "text": [
            "4.0\n",
            "8\n",
            "(8.3+0j)\n",
            "<class 'float'>\n",
            "<class 'int'>\n",
            "<class 'complex'>\n"
          ]
        }
      ]
    },
    {
      "cell_type": "code",
      "source": [
        "import random\n",
        "print(random.randrange(1,10))\n"
      ],
      "metadata": {
        "colab": {
          "base_uri": "https://localhost:8080/"
        },
        "id": "oXNi7lidRR_d",
        "outputId": "cf586b22-bff0-48a5-fc4d-9db522e19165"
      },
      "execution_count": 15,
      "outputs": [
        {
          "output_type": "stream",
          "name": "stdout",
          "text": [
            "3\n"
          ]
        }
      ]
    },
    {
      "cell_type": "code",
      "source": [
        "Name =str(input(\"Enter your Name: \"))\n",
        "a = int(input(\"Enter your marks in Maths: \"))\n",
        "b = int(input(\"Enter your marks in Science: \"))\n",
        "c = int(input(\"Enter your marks in English: \"))\n",
        "d = int(input(\"Enter your marks in Hindi: \"))\n",
        "if(a>50 and b>50 and c>50 and d>50): print('pass')\n",
        "else: print('fail')"
      ],
      "metadata": {
        "colab": {
          "base_uri": "https://localhost:8080/"
        },
        "id": "BCo9de2rSxaz",
        "outputId": "98c88f57-e157-4389-9151-0db7bf562bba"
      },
      "execution_count": 16,
      "outputs": [
        {
          "output_type": "stream",
          "name": "stdout",
          "text": [
            "Enter your Name: Akshansh\n",
            "Enter your marks in Maths: 78\n",
            "Enter your marks in Science: 84\n",
            "Enter your marks in English: 89\n",
            "Enter your marks in Hindi: 74\n",
            "pass\n"
          ]
        }
      ]
    },
    {
      "cell_type": "code",
      "source": [
        "Name =str(input(\"Enter your Name: \"))\n",
        "a = int(input(\"Enter your marks in Maths: \"))\n",
        "b = int(input(\"Enter your marks in Science: \"))\n",
        "c = int(input(\"Enter your marks in English: \"))\n",
        "d = int(input(\"Enter your marks in Hindi: \"))\n",
        "if(a>50 and b>50 and c>50 and d>50): print('pass')\n",
        "else: print('fail')"
      ],
      "metadata": {
        "colab": {
          "base_uri": "https://localhost:8080/"
        },
        "id": "stHNHqs7U4Vp",
        "outputId": "7537a766-eab6-45bb-9657-8b9798cda11b"
      },
      "execution_count": 17,
      "outputs": [
        {
          "output_type": "stream",
          "name": "stdout",
          "text": [
            "Enter your Name: Akshansh\n",
            "Enter your marks in Maths: 45\n",
            "Enter your marks in Science: 32\n",
            "Enter your marks in English: 43\n",
            "Enter your marks in Hindi: 38\n",
            "fail\n"
          ]
        }
      ]
    }
  ]
}