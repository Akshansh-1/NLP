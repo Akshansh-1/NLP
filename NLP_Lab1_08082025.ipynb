{
  "nbformat": 4,
  "nbformat_minor": 0,
  "metadata": {
    "colab": {
      "provenance": [],
      "authorship_tag": "ABX9TyPcCv0xwpAeMM2BPczW8CFN",
      "include_colab_link": true
    },
    "kernelspec": {
      "name": "python3",
      "display_name": "Python 3"
    },
    "language_info": {
      "name": "python"
    }
  },
  "cells": [
    {
      "cell_type": "markdown",
      "metadata": {
        "id": "view-in-github",
        "colab_type": "text"
      },
      "source": [
        "<a href=\"https://colab.research.google.com/github/Akshansh-1/NLP/blob/main/NLP_Lab1_08082025.ipynb\" target=\"_parent\"><img src=\"https://colab.research.google.com/assets/colab-badge.svg\" alt=\"Open In Colab\"/></a>"
      ]
    },
    {
      "cell_type": "markdown",
      "source": [
        "*   Name: Akshansh Agrawal\n",
        "*   Enrollment Number: S25MCAG0068\n",
        "*   Batch: 03\n",
        "\n",
        "\n",
        "\n"
      ],
      "metadata": {
        "id": "B1l6BPrXUpOv"
      }
    },
    {
      "cell_type": "code",
      "execution_count": 1,
      "metadata": {
        "colab": {
          "base_uri": "https://localhost:8080/"
        },
        "id": "foCH2vOUT9Pf",
        "outputId": "85bbdebf-5827-4bdf-b653-bd816f81fe46"
      },
      "outputs": [
        {
          "output_type": "stream",
          "name": "stdout",
          "text": [
            "['https://www.xy123z.com/']\n"
          ]
        }
      ],
      "source": [
        "#1.\tTo find a URL in a sentence:\n",
        "#\texample=\"I love spending time at https://www.xy123z.com/\"\n",
        "\n",
        "import re\n",
        "\n",
        "example = \"I love spending time at https://www.xy123z.com/\"\n",
        "url = re.findall(r'https?://\\S+', example)\n",
        "print(url)"
      ]
    },
    {
      "cell_type": "code",
      "source": [
        "#2.\tGet email id from the sentence:\n",
        "#\tExample=\"My email id is xyz111@gmail.com\"\n",
        "\n",
        "import re\n",
        "\n",
        "example = \"My email id is xyz111@gmail.com\"\n",
        "email = re.findall(r'[A-z0-9._%+-]+@[A-z0-9.-]+[A-z]{2,}', example)\n",
        "print(email)"
      ],
      "metadata": {
        "colab": {
          "base_uri": "https://localhost:8080/"
        },
        "id": "SwrKSeNTV9_V",
        "outputId": "fe4ab7d0-cf19-4df5-b31a-98cb75326f0b"
      },
      "execution_count": 8,
      "outputs": [
        {
          "output_type": "stream",
          "name": "stdout",
          "text": [
            "['xyz111@gmail.com']\n"
          ]
        }
      ]
    },
    {
      "cell_type": "code",
      "source": [
        "#3.\tTo find the hashtags:\n",
        "#\t#Sushant is trending now in the world.\n",
        "\n",
        "import re\n",
        "\n",
        "example = \"#Sushant is trending now in the world.\"\n",
        "hashtags = re.findall(r'#\\w+', example)\n",
        "print(hashtags)"
      ],
      "metadata": {
        "colab": {
          "base_uri": "https://localhost:8080/"
        },
        "id": "xmVF5h1JWdRC",
        "outputId": "954a1220-bed3-459b-bccb-2faa3c8587bf"
      },
      "execution_count": 3,
      "outputs": [
        {
          "output_type": "stream",
          "name": "stdout",
          "text": [
            "['#Sushant']\n"
          ]
        }
      ]
    },
    {
      "cell_type": "code",
      "source": [
        "#4.\tTo find the mentions in a sentence: @ – This symbol is used to mention someone in tweets. So, to extract words associated with @ symbol use this code:\n",
        "#\texample=\"@Ajit, please help me\"\n",
        "\n",
        "import re\n",
        "\n",
        "example = \"@Ajit, please help me\"\n",
        "mentions = re.findall(r'@\\w+', example)\n",
        "print(mentions)"
      ],
      "metadata": {
        "colab": {
          "base_uri": "https://localhost:8080/"
        },
        "id": "yBdcP1mDXPEu",
        "outputId": "79694c70-f9f1-4686-e016-bc7a0c727767"
      },
      "execution_count": 4,
      "outputs": [
        {
          "output_type": "stream",
          "name": "stdout",
          "text": [
            "['@Ajit']\n"
          ]
        }
      ]
    },
    {
      "cell_type": "code",
      "source": [
        "#5.\tTo find numbers in a sentence:\n",
        "#\texample=\"8853147 sq. km of area washed away in floods\"\n",
        "\n",
        "import re\n",
        "\n",
        "example = \"8853147 sq. km of area washed away in floods\"\n",
        "numbers = re.findall(r'\\d+', example)\n",
        "print(numbers)"
      ],
      "metadata": {
        "colab": {
          "base_uri": "https://localhost:8080/"
        },
        "id": "arl0OQU-X1R_",
        "outputId": "7589dcc3-8250-4be4-f7f4-40f2fa14e6bb"
      },
      "execution_count": 5,
      "outputs": [
        {
          "output_type": "stream",
          "name": "stdout",
          "text": [
            "['8853147']\n"
          ]
        }
      ]
    },
    {
      "cell_type": "code",
      "source": [
        "#6.\tTo find punctuations in a sentence:\n",
        "#\texample=\"Corona virus killed #24506 people. #Corona is un(tolerable)\"\n",
        "\n",
        "import re\n",
        "\n",
        "example = \"Corona virus killed #24506 people. #Corona is un(tolerable)\"\n",
        "punctuations = re.findall(r'[^\\w\\s]', example)\n",
        "print(punctuations)\n"
      ],
      "metadata": {
        "colab": {
          "base_uri": "https://localhost:8080/"
        },
        "id": "geGD1u9LX8Y-",
        "outputId": "92916431-3942-44d6-a798-74ca074fd44f"
      },
      "execution_count": 9,
      "outputs": [
        {
          "output_type": "stream",
          "name": "stdout",
          "text": [
            "['#', '.', '#', '(', ')']\n"
          ]
        }
      ]
    },
    {
      "cell_type": "code",
      "source": [
        "#6.\tTo find punctuations in a sentence:\n",
        "#\texample=\"Corona virus killed #24506 people. #Corona is un(tolerable)\"\n",
        "\n",
        "\n",
        "import re\n",
        "\n",
        "example = \"Corona virus killed #24506 people. #Corona is un(tolerable)\"\n",
        "punctuations = re.findall(r'[^\\w\\s]', example)\n",
        "print(punctuations)"
      ],
      "metadata": {
        "colab": {
          "base_uri": "https://localhost:8080/"
        },
        "id": "EzqMba6AaxZ1",
        "outputId": "1cc6bed3-0288-420f-c2df-b8ef5f8bce90"
      },
      "execution_count": 15,
      "outputs": [
        {
          "output_type": "stream",
          "name": "stdout",
          "text": [
            "['#', '.', '#', '(', ')']\n"
          ]
        }
      ]
    },
    {
      "cell_type": "code",
      "source": [
        "#7.\tTo Validate PAN Number use the below code: Format: First 5 letters in CAPS+4 digits+Last letter in CAPS\n",
        "#a.\tExample1: \"ABCED3193P\"\n",
        "#b.\tExample2: \"lEcGD012eg\"\n",
        "\n",
        "import re\n",
        "\n",
        "def validate_pan(pan_number):\n",
        "  pattern = r'^[A-Z]{5}[0-9]{4}[A-Z]{1}$'\n",
        "  if re.match(pattern, pan_number):\n",
        "    return \"Valid PAN Number\"\n",
        "  else:\n",
        "    return \"Invalid PAN Number\"\n",
        "print(f\"ABCED3193P: {validate_pan('ABCED3193P')}\")\n",
        "print(f\"lEcGD012eg: {validate_pan('lEcGD012eg')}\")"
      ],
      "metadata": {
        "colab": {
          "base_uri": "https://localhost:8080/"
        },
        "id": "lXCV9967ccm7",
        "outputId": "903f4234-2e7b-4509-9e7e-03db37d14e68"
      },
      "execution_count": 16,
      "outputs": [
        {
          "output_type": "stream",
          "name": "stdout",
          "text": [
            "ABCED3193P: Valid PAN Number\n",
            "lEcGD012eg: Invalid PAN Number\n"
          ]
        }
      ]
    },
    {
      "cell_type": "code",
      "source": [
        "#8.\tRemove repetitive characters from sentence:\n",
        "#a.\texample=\"heyyy this is a verrrry loong texttt\"\n",
        "\n",
        "import re\n",
        "\n",
        "example = \"heyyy this is a verrrry loong texttt \"\n",
        "cleared_text = re.sub(r'(.)\\1+', r'\\1', example)\n",
        "print(cleared_text)"
      ],
      "metadata": {
        "colab": {
          "base_uri": "https://localhost:8080/"
        },
        "id": "wJHU9Vg4c9fD",
        "outputId": "455d849e-81da-4cc8-d88b-7da62dcbbf48"
      },
      "execution_count": 18,
      "outputs": [
        {
          "output_type": "stream",
          "name": "stdout",
          "text": [
            "hey this is a very long text \n"
          ]
        }
      ]
    },
    {
      "cell_type": "code",
      "source": [
        "#9.\tTo find Indian mobile numbers:\n",
        "#a.\tExample= \"9990001796 is a phone number of PMO office\"\n",
        "\n",
        "import re\n",
        "\n",
        "example = \"9990001796 is a phone number of PMO office\"\n",
        "mobile_numbers = re.findall(r'\\b\\d{10}\\b', example)\n",
        "print(mobile_numbers)"
      ],
      "metadata": {
        "colab": {
          "base_uri": "https://localhost:8080/"
        },
        "id": "5EmYLClTeFvB",
        "outputId": "df4ab597-bfd1-4b57-ded3-d520508c4b18"
      },
      "execution_count": 19,
      "outputs": [
        {
          "output_type": "stream",
          "name": "stdout",
          "text": [
            "['9990001796']\n"
          ]
        }
      ]
    },
    {
      "cell_type": "code",
      "source": [
        "#10.\tExtract words starting with a capital letter from the input text.\n",
        "#a.\texample=\"Ajit Doval is the best National Security Advisor so far.\"\n",
        "\n",
        "import re\n",
        "\n",
        "example = \"Ajit Doval is the best National Security Advisor so far.\"\n",
        "capital_words = re.findall(r'\\b[A-Z]\\w*', example)\n",
        "print(capital_words)"
      ],
      "metadata": {
        "colab": {
          "base_uri": "https://localhost:8080/"
        },
        "id": "IZsIpJVYeLAC",
        "outputId": "eeeeb679-b9b4-4495-cf26-e5e4de291bbd"
      },
      "execution_count": 20,
      "outputs": [
        {
          "output_type": "stream",
          "name": "stdout",
          "text": [
            "['Ajit', 'Doval', 'National', 'Security', 'Advisor']\n"
          ]
        }
      ]
    }
  ]
}